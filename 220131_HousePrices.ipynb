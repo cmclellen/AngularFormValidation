{
  "nbformat": 4,
  "nbformat_minor": 0,
  "metadata": {
    "colab": {
      "name": "220131-HousePrices.ipynb",
      "provenance": [],
      "authorship_tag": "ABX9TyMcbhnf74fcXHQkaf833crl",
      "include_colab_link": true
    },
    "kernelspec": {
      "name": "python3",
      "display_name": "Python 3"
    },
    "language_info": {
      "name": "python"
    },
    "accelerator": "GPU"
  },
  "cells": [
    {
      "cell_type": "markdown",
      "metadata": {
        "id": "view-in-github",
        "colab_type": "text"
      },
      "source": [
        "<a href=\"https://colab.research.google.com/github/cmclellen/AngularFormValidation/blob/master/220131_HousePrices.ipynb\" target=\"_parent\"><img src=\"https://colab.research.google.com/assets/colab-badge.svg\" alt=\"Open In Colab\"/></a>"
      ]
    },
    {
      "cell_type": "code",
      "execution_count": 77,
      "metadata": {
        "id": "4g5OmTgMSEue"
      },
      "outputs": [],
      "source": [
        "import tensorflow as tf\n",
        "import numpy as np\n",
        "import pandas as pd\n",
        "import matplotlib.pyplot as plt\n",
        "import seaborn as sns\n",
        "import os\n",
        "from tensorflow.keras import layers, losses, optimizers "
      ]
    },
    {
      "cell_type": "code",
      "source": [
        "from google.colab import files\n",
        "files.upload()"
      ],
      "metadata": {
        "colab": {
          "resources": {
            "http://localhost:8080/nbextensions/google.colab/files.js": {
              "data": "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",
              "ok": true,
              "headers": [
                [
                  "content-type",
                  "application/javascript"
                ]
              ],
              "status": 200,
              "status_text": ""
            }
          },
          "base_uri": "https://localhost:8080/",
          "height": 90
        },
        "id": "XgJcdHNkSl62",
        "outputId": "a31c2956-21f8-49ef-d963-a9b5619aaee6"
      },
      "execution_count": 2,
      "outputs": [
        {
          "output_type": "display_data",
          "data": {
            "text/html": [
              "\n",
              "     <input type=\"file\" id=\"files-4dec034e-4c43-4ad6-a5c8-b5fe78a140cb\" name=\"files[]\" multiple disabled\n",
              "        style=\"border:none\" />\n",
              "     <output id=\"result-4dec034e-4c43-4ad6-a5c8-b5fe78a140cb\">\n",
              "      Upload widget is only available when the cell has been executed in the\n",
              "      current browser session. Please rerun this cell to enable.\n",
              "      </output>\n",
              "      <script src=\"/nbextensions/google.colab/files.js\"></script> "
            ],
            "text/plain": [
              "<IPython.core.display.HTML object>"
            ]
          },
          "metadata": {}
        },
        {
          "output_type": "stream",
          "name": "stdout",
          "text": [
            "Saving kaggle.json to kaggle.json\n"
          ]
        },
        {
          "output_type": "execute_result",
          "data": {
            "text/plain": [
              "{'kaggle.json': b'{\"username\":\"craigmclellen\",\"key\":\"224b95b7805a5779e3638aa1f0882a57\"}'}"
            ]
          },
          "metadata": {},
          "execution_count": 2
        }
      ]
    },
    {
      "cell_type": "code",
      "source": [
        "!mkdir ~/.kaggle\n",
        "!mv kaggle.json ~/.kaggle\n",
        "!chmod 600 ~/.kaggle"
      ],
      "metadata": {
        "id": "NtCVWCZ5Stnw"
      },
      "execution_count": 3,
      "outputs": []
    },
    {
      "cell_type": "code",
      "source": [
        "!kaggle competitions list -s house"
      ],
      "metadata": {
        "id": "FP0Mbv-bS2-V",
        "outputId": "aa8995a1-f8ea-4985-cee2-ccbf75889ff7",
        "colab": {
          "base_uri": "https://localhost:8080/"
        }
      },
      "execution_count": 4,
      "outputs": [
        {
          "output_type": "stream",
          "name": "stdout",
          "text": [
            "Warning: Your Kaggle API key is readable by other users on this system! To fix this, you can run 'chmod 600 /root/.kaggle/kaggle.json'\n",
            "Warning: Looks like you're using an outdated API Version, please consider updating (server 1.5.12 / client 1.5.4)\n",
            "ref                                          deadline             category            reward  teamCount  userHasEntered  \n",
            "-------------------------------------------  -------------------  ---------------  ---------  ---------  --------------  \n",
            "house-prices-advanced-regression-techniques  2030-01-01 00:00:00  Getting Started  Knowledge       4859            True  \n",
            "costa-rican-household-poverty-prediction     2018-09-19 23:59:00  Playground            Swag        616           False  \n"
          ]
        }
      ]
    },
    {
      "cell_type": "code",
      "source": [
        "!kaggle competitions download house-prices-advanced-regression-techniques"
      ],
      "metadata": {
        "id": "YUcSXKhlS73b",
        "outputId": "8359ba3e-b708-4b2d-eb4e-869d363bf203",
        "colab": {
          "base_uri": "https://localhost:8080/"
        }
      },
      "execution_count": 5,
      "outputs": [
        {
          "output_type": "stream",
          "name": "stdout",
          "text": [
            "Warning: Your Kaggle API key is readable by other users on this system! To fix this, you can run 'chmod 600 /root/.kaggle/kaggle.json'\n",
            "Warning: Looks like you're using an outdated API Version, please consider updating (server 1.5.12 / client 1.5.4)\n",
            "Downloading test.csv to /content\n",
            "  0% 0.00/441k [00:00<?, ?B/s]\n",
            "100% 441k/441k [00:00<00:00, 66.1MB/s]\n",
            "Downloading train.csv to /content\n",
            "  0% 0.00/450k [00:00<?, ?B/s]\n",
            "100% 450k/450k [00:00<00:00, 64.2MB/s]\n",
            "Downloading sample_submission.csv to /content\n",
            "  0% 0.00/31.2k [00:00<?, ?B/s]\n",
            "100% 31.2k/31.2k [00:00<00:00, 32.2MB/s]\n",
            "Downloading data_description.txt to /content\n",
            "  0% 0.00/13.1k [00:00<?, ?B/s]\n",
            "100% 13.1k/13.1k [00:00<00:00, 13.5MB/s]\n"
          ]
        }
      ]
    },
    {
      "cell_type": "code",
      "source": [
        "train_ds = pd.read_csv('train.csv')\n",
        "test_ds = pd.read_csv('test.csv')\n",
        "sample_submission_ds = pd.read_csv('sample_submission.csv')\n",
        "\n",
        "train_ds.shape, test_ds.shape, sample_submission_ds.shape"
      ],
      "metadata": {
        "id": "aDvMFU3wTEM9",
        "outputId": "7c2188c8-eb71-468d-e611-bd3e8acceff7",
        "colab": {
          "base_uri": "https://localhost:8080/"
        }
      },
      "execution_count": 422,
      "outputs": [
        {
          "output_type": "execute_result",
          "data": {
            "text/plain": [
              "((1460, 81), (1459, 80), (1459, 2))"
            ]
          },
          "metadata": {},
          "execution_count": 422
        }
      ]
    },
    {
      "cell_type": "code",
      "source": [
        "plt.figure(figsize=(15,10))\n",
        "corr = train_ds.corr()\n",
        "sns.heatmap(corr, cmap='Greens')"
      ],
      "metadata": {
        "id": "kSRIlZdeTRJV",
        "outputId": "d5f54521-7249-498c-ce92-49716befd16b",
        "colab": {
          "base_uri": "https://localhost:8080/",
          "height": 678
        }
      },
      "execution_count": 423,
      "outputs": [
        {
          "output_type": "execute_result",
          "data": {
            "text/plain": [
              "<matplotlib.axes._subplots.AxesSubplot at 0x7fce54f54950>"
            ]
          },
          "metadata": {},
          "execution_count": 423
        },
        {
          "output_type": "display_data",
          "data": {
            "image/png": "[encoded data removed]",
            "text/plain": [
              "<Figure size 1080x720 with 2 Axes>"
            ]
          },
          "metadata": {
            "needs_background": "light"
          }
        }
      ]
    },
    {
      "cell_type": "code",
      "source": [
        "def get_cols(ds):\n",
        "  categorical_cols = []\n",
        "  numerical_cols = []\n",
        "  for col in ds.columns:\n",
        "    if ds[col].dtype=='object':\n",
        "      categorical_cols.append(col)\n",
        "    else:\n",
        "      numerical_cols.append(col)\n",
        "  return categorical_cols, numerical_cols\n",
        "\n",
        "categorical_cols, numerical_cols = get_cols(train_ds)\n",
        "\n",
        "print('categorical: ', categorical_cols)\n",
        "print('numerical: ', numerical_cols)"
      ],
      "metadata": {
        "id": "QUcgtZcjUMW2",
        "outputId": "88ec4576-f77e-49b7-ef34-b3e647ba3401",
        "colab": {
          "base_uri": "https://localhost:8080/"
        }
      },
      "execution_count": 424,
      "outputs": [
        {
          "output_type": "stream",
          "name": "stdout",
          "text": [
            "categorical:  ['MSZoning', 'Street', 'Alley', 'LotShape', 'LandContour', 'Utilities', 'LotConfig', 'LandSlope', 'Neighborhood', 'Condition1', 'Condition2', 'BldgType', 'HouseStyle', 'RoofStyle', 'RoofMatl', 'Exterior1st', 'Exterior2nd', 'MasVnrType', 'ExterQual', 'ExterCond', 'Foundation', 'BsmtQual', 'BsmtCond', 'BsmtExposure', 'BsmtFinType1', 'BsmtFinType2', 'Heating', 'HeatingQC', 'CentralAir', 'Electrical', 'KitchenQual', 'Functional', 'FireplaceQu', 'GarageType', 'GarageFinish', 'GarageQual', 'GarageCond', 'PavedDrive', 'PoolQC', 'Fence', 'MiscFeature', 'SaleType', 'SaleCondition']\n",
            "numerical:  ['Id', 'MSSubClass', 'LotFrontage', 'LotArea', 'OverallQual', 'OverallCond', 'YearBuilt', 'YearRemodAdd', 'MasVnrArea', 'BsmtFinSF1', 'BsmtFinSF2', 'BsmtUnfSF', 'TotalBsmtSF', '1stFlrSF', '2ndFlrSF', 'LowQualFinSF', 'GrLivArea', 'BsmtFullBath', 'BsmtHalfBath', 'FullBath', 'HalfBath', 'BedroomAbvGr', 'KitchenAbvGr', 'TotRmsAbvGrd', 'Fireplaces', 'GarageYrBlt', 'GarageCars', 'GarageArea', 'WoodDeckSF', 'OpenPorchSF', 'EnclosedPorch', '3SsnPorch', 'ScreenPorch', 'PoolArea', 'MiscVal', 'MoSold', 'YrSold', 'SalePrice']\n"
          ]
        }
      ]
    },
    {
      "cell_type": "code",
      "source": [
        "corr['SalePrice'].nlargest(20)"
      ],
      "metadata": {
        "id": "2XeJtmWIT-Rt",
        "outputId": "69c482df-ee6f-48b3-ba5b-a599ff76a77f",
        "colab": {
          "base_uri": "https://localhost:8080/"
        }
      },
      "execution_count": 425,
      "outputs": [
        {
          "output_type": "execute_result",
          "data": {
            "text/plain": [
              "SalePrice       1.000000\n",
              "OverallQual     0.790982\n",
              "GrLivArea       0.708624\n",
              "GarageCars      0.640409\n",
              "GarageArea      0.623431\n",
              "TotalBsmtSF     0.613581\n",
              "1stFlrSF        0.605852\n",
              "FullBath        0.560664\n",
              "TotRmsAbvGrd    0.533723\n",
              "YearBuilt       0.522897\n",
              "YearRemodAdd    0.507101\n",
              "GarageYrBlt     0.486362\n",
              "MasVnrArea      0.477493\n",
              "Fireplaces      0.466929\n",
              "BsmtFinSF1      0.386420\n",
              "LotFrontage     0.351799\n",
              "WoodDeckSF      0.324413\n",
              "2ndFlrSF        0.319334\n",
              "OpenPorchSF     0.315856\n",
              "HalfBath        0.284108\n",
              "Name: SalePrice, dtype: float64"
            ]
          },
          "metadata": {},
          "execution_count": 425
        }
      ]
    },
    {
      "cell_type": "code",
      "source": [
        "train_ID = train_ds['Id']\n",
        "test_ID = test_ds['Id']\n",
        "\n",
        "train_ds.drop('Id', axis=1, inplace=True)\n",
        "test_ds.drop('Id', axis=1, inplace=True)"
      ],
      "metadata": {
        "id": "RE9o0K55YLn5"
      },
      "execution_count": 426,
      "outputs": []
    },
    {
      "cell_type": "code",
      "source": [
        "df_concat = pd.concat((train_ds, test_ds)).reset_index(drop=True)\n",
        "df_concat.drop(['SalePrice', 'GarageArea'], axis=1, inplace=True)\n",
        "df_concat[1455:1460]\n",
        "\n",
        "# cols = ['ExterCond', 'LotFrontage', 'Neighborhood',\n",
        "#         'MSZoning', 'OverallQual', 'OverallCond', 'GrLivArea', \n",
        "#         'BldgType', 'GarageCars', 'TotalSF', 'TotRmsAbvGrd', 'YearBuilt', \n",
        "#         'FullBath', 'HalfBath', 'BsmtHalfBath', 'BsmtFullBath', 'OpenPorchSF', 'WoodDeckSF', 'Fireplaces']"
      ],
      "metadata": {
        "id": "ekR6lfMzZNJ7",
        "outputId": "e101dd19-6e08-48a1-83a9-c2b6387d0810",
        "colab": {
          "base_uri": "https://localhost:8080/",
          "height": 270
        }
      },
      "execution_count": 427,
      "outputs": [
        {
          "output_type": "execute_result",
          "data": {
            "text/html": [
              "\n",
              "  <div id=\"df-2543be00-c0d3-4322-b858-af5dbf01e0d3\">\n",
              "    <div class=\"colab-df-container\">\n",
              "      <div>\n",
              "<style scoped>\n",
              "    .dataframe tbody tr th:only-of-type {\n",
              "        vertical-align: middle;\n",
              "    }\n",
              "\n",
              "    .dataframe tbody tr th {\n",
              "        vertical-align: top;\n",
              "    }\n",
              "\n",
              "    .dataframe thead th {\n",
              "        text-align: right;\n",
              "    }\n",
              "</style>\n",
              "<table border=\"1\" class=\"dataframe\">\n",
              "  <thead>\n",
              "    <tr style=\"text-align: right;\">\n",
              "      <th></th>\n",
              "      <th>MSSubClass</th>\n",
              "      <th>MSZoning</th>\n",
              "      <th>LotFrontage</th>\n",
              "      <th>LotArea</th>\n",
              "      <th>Street</th>\n",
              "      <th>Alley</th>\n",
              "      <th>LotShape</th>\n",
              "      <th>LandContour</th>\n",
              "      <th>Utilities</th>\n",
              "      <th>LotConfig</th>\n",
              "      <th>LandSlope</th>\n",
              "      <th>Neighborhood</th>\n",
              "      <th>Condition1</th>\n",
              "      <th>Condition2</th>\n",
              "      <th>BldgType</th>\n",
              "      <th>HouseStyle</th>\n",
              "      <th>OverallQual</th>\n",
              "      <th>OverallCond</th>\n",
              "      <th>YearBuilt</th>\n",
              "      <th>YearRemodAdd</th>\n",
              "      <th>RoofStyle</th>\n",
              "      <th>RoofMatl</th>\n",
              "      <th>Exterior1st</th>\n",
              "      <th>Exterior2nd</th>\n",
              "      <th>MasVnrType</th>\n",
              "      <th>MasVnrArea</th>\n",
              "      <th>ExterQual</th>\n",
              "      <th>ExterCond</th>\n",
              "      <th>Foundation</th>\n",
              "      <th>BsmtQual</th>\n",
              "      <th>BsmtCond</th>\n",
              "      <th>BsmtExposure</th>\n",
              "      <th>BsmtFinType1</th>\n",
              "      <th>BsmtFinSF1</th>\n",
              "      <th>BsmtFinType2</th>\n",
              "      <th>BsmtFinSF2</th>\n",
              "      <th>BsmtUnfSF</th>\n",
              "      <th>TotalBsmtSF</th>\n",
              "      <th>Heating</th>\n",
              "      <th>HeatingQC</th>\n",
              "      <th>CentralAir</th>\n",
              "      <th>Electrical</th>\n",
              "      <th>1stFlrSF</th>\n",
              "      <th>2ndFlrSF</th>\n",
              "      <th>LowQualFinSF</th>\n",
              "      <th>GrLivArea</th>\n",
              "      <th>BsmtFullBath</th>\n",
              "      <th>BsmtHalfBath</th>\n",
              "      <th>FullBath</th>\n",
              "      <th>HalfBath</th>\n",
              "      <th>BedroomAbvGr</th>\n",
              "      <th>KitchenAbvGr</th>\n",
              "      <th>KitchenQual</th>\n",
              "      <th>TotRmsAbvGrd</th>\n",
              "      <th>Functional</th>\n",
              "      <th>Fireplaces</th>\n",
              "      <th>FireplaceQu</th>\n",
              "      <th>GarageType</th>\n",
              "      <th>GarageYrBlt</th>\n",
              "      <th>GarageFinish</th>\n",
              "      <th>GarageCars</th>\n",
              "      <th>GarageQual</th>\n",
              "      <th>GarageCond</th>\n",
              "      <th>PavedDrive</th>\n",
              "      <th>WoodDeckSF</th>\n",
              "      <th>OpenPorchSF</th>\n",
              "      <th>EnclosedPorch</th>\n",
              "      <th>3SsnPorch</th>\n",
              "      <th>ScreenPorch</th>\n",
              "      <th>PoolArea</th>\n",
              "      <th>PoolQC</th>\n",
              "      <th>Fence</th>\n",
              "      <th>MiscFeature</th>\n",
              "      <th>MiscVal</th>\n",
              "      <th>MoSold</th>\n",
              "      <th>YrSold</th>\n",
              "      <th>SaleType</th>\n",
              "      <th>SaleCondition</th>\n",
              "    </tr>\n",
              "  </thead>\n",
              "  <tbody>\n",
              "    <tr>\n",
              "      <th>1455</th>\n",
              "      <td>60</td>\n",
              "      <td>RL</td>\n",
              "      <td>62.0</td>\n",
              "      <td>7917</td>\n",
              "      <td>Pave</td>\n",
              "      <td>NaN</td>\n",
              "      <td>Reg</td>\n",
              "      <td>Lvl</td>\n",
              "      <td>AllPub</td>\n",
              "      <td>Inside</td>\n",
              "      <td>Gtl</td>\n",
              "      <td>Gilbert</td>\n",
              "      <td>Norm</td>\n",
              "      <td>Norm</td>\n",
              "      <td>1Fam</td>\n",
              "      <td>2Story</td>\n",
              "      <td>6</td>\n",
              "      <td>5</td>\n",
              "      <td>1999</td>\n",
              "      <td>2000</td>\n",
              "      <td>Gable</td>\n",
              "      <td>CompShg</td>\n",
              "      <td>VinylSd</td>\n",
              "      <td>VinylSd</td>\n",
              "      <td>None</td>\n",
              "      <td>0.0</td>\n",
              "      <td>TA</td>\n",
              "      <td>TA</td>\n",
              "      <td>PConc</td>\n",
              "      <td>Gd</td>\n",
              "      <td>TA</td>\n",
              "      <td>No</td>\n",
              "      <td>Unf</td>\n",
              "      <td>0.0</td>\n",
              "      <td>Unf</td>\n",
              "      <td>0.0</td>\n",
              "      <td>953.0</td>\n",
              "      <td>953.0</td>\n",
              "      <td>GasA</td>\n",
              "      <td>Ex</td>\n",
              "      <td>Y</td>\n",
              "      <td>SBrkr</td>\n",
              "      <td>953</td>\n",
              "      <td>694</td>\n",
              "      <td>0</td>\n",
              "      <td>1647</td>\n",
              "      <td>0.0</td>\n",
              "      <td>0.0</td>\n",
              "      <td>2</td>\n",
              "      <td>1</td>\n",
              "      <td>3</td>\n",
              "      <td>1</td>\n",
              "      <td>TA</td>\n",
              "      <td>7</td>\n",
              "      <td>Typ</td>\n",
              "      <td>1</td>\n",
              "      <td>TA</td>\n",
              "      <td>Attchd</td>\n",
              "      <td>1999.0</td>\n",
              "      <td>RFn</td>\n",
              "      <td>2.0</td>\n",
              "      <td>TA</td>\n",
              "      <td>TA</td>\n",
              "      <td>Y</td>\n",
              "      <td>0</td>\n",
              "      <td>40</td>\n",
              "      <td>0</td>\n",
              "      <td>0</td>\n",
              "      <td>0</td>\n",
              "      <td>0</td>\n",
              "      <td>NaN</td>\n",
              "      <td>NaN</td>\n",
              "      <td>NaN</td>\n",
              "      <td>0</td>\n",
              "      <td>8</td>\n",
              "      <td>2007</td>\n",
              "      <td>WD</td>\n",
              "      <td>Normal</td>\n",
              "    </tr>\n",
              "    <tr>\n",
              "      <th>1456</th>\n",
              "      <td>20</td>\n",
              "      <td>RL</td>\n",
              "      <td>85.0</td>\n",
              "      <td>13175</td>\n",
              "      <td>Pave</td>\n",
              "      <td>NaN</td>\n",
              "      <td>Reg</td>\n",
              "      <td>Lvl</td>\n",
              "      <td>AllPub</td>\n",
              "      <td>Inside</td>\n",
              "      <td>Gtl</td>\n",
              "      <td>NWAmes</td>\n",
              "      <td>Norm</td>\n",
              "      <td>Norm</td>\n",
              "      <td>1Fam</td>\n",
              "      <td>1Story</td>\n",
              "      <td>6</td>\n",
              "      <td>6</td>\n",
              "      <td>1978</td>\n",
              "      <td>1988</td>\n",
              "      <td>Gable</td>\n",
              "      <td>CompShg</td>\n",
              "      <td>Plywood</td>\n",
              "      <td>Plywood</td>\n",
              "      <td>Stone</td>\n",
              "      <td>119.0</td>\n",
              "      <td>TA</td>\n",
              "      <td>TA</td>\n",
              "      <td>CBlock</td>\n",
              "      <td>Gd</td>\n",
              "      <td>TA</td>\n",
              "      <td>No</td>\n",
              "      <td>ALQ</td>\n",
              "      <td>790.0</td>\n",
              "      <td>Rec</td>\n",
              "      <td>163.0</td>\n",
              "      <td>589.0</td>\n",
              "      <td>1542.0</td>\n",
              "      <td>GasA</td>\n",
              "      <td>TA</td>\n",
              "      <td>Y</td>\n",
              "      <td>SBrkr</td>\n",
              "      <td>2073</td>\n",
              "      <td>0</td>\n",
              "      <td>0</td>\n",
              "      <td>2073</td>\n",
              "      <td>1.0</td>\n",
              "      <td>0.0</td>\n",
              "      <td>2</td>\n",
              "      <td>0</td>\n",
              "      <td>3</td>\n",
              "      <td>1</td>\n",
              "      <td>TA</td>\n",
              "      <td>7</td>\n",
              "      <td>Min1</td>\n",
              "      <td>2</td>\n",
              "      <td>TA</td>\n",
              "      <td>Attchd</td>\n",
              "      <td>1978.0</td>\n",
              "      <td>Unf</td>\n",
              "      <td>2.0</td>\n",
              "      <td>TA</td>\n",
              "      <td>TA</td>\n",
              "      <td>Y</td>\n",
              "      <td>349</td>\n",
              "      <td>0</td>\n",
              "      <td>0</td>\n",
              "      <td>0</td>\n",
              "      <td>0</td>\n",
              "      <td>0</td>\n",
              "      <td>NaN</td>\n",
              "      <td>MnPrv</td>\n",
              "      <td>NaN</td>\n",
              "      <td>0</td>\n",
              "      <td>2</td>\n",
              "      <td>2010</td>\n",
              "      <td>WD</td>\n",
              "      <td>Normal</td>\n",
              "    </tr>\n",
              "    <tr>\n",
              "      <th>1457</th>\n",
              "      <td>70</td>\n",
              "      <td>RL</td>\n",
              "      <td>66.0</td>\n",
              "      <td>9042</td>\n",
              "      <td>Pave</td>\n",
              "      <td>NaN</td>\n",
              "      <td>Reg</td>\n",
              "      <td>Lvl</td>\n",
              "      <td>AllPub</td>\n",
              "      <td>Inside</td>\n",
              "      <td>Gtl</td>\n",
              "      <td>Crawfor</td>\n",
              "      <td>Norm</td>\n",
              "      <td>Norm</td>\n",
              "      <td>1Fam</td>\n",
              "      <td>2Story</td>\n",
              "      <td>7</td>\n",
              "      <td>9</td>\n",
              "      <td>1941</td>\n",
              "      <td>2006</td>\n",
              "      <td>Gable</td>\n",
              "      <td>CompShg</td>\n",
              "      <td>CemntBd</td>\n",
              "      <td>CmentBd</td>\n",
              "      <td>None</td>\n",
              "      <td>0.0</td>\n",
              "      <td>Ex</td>\n",
              "      <td>Gd</td>\n",
              "      <td>Stone</td>\n",
              "      <td>TA</td>\n",
              "      <td>Gd</td>\n",
              "      <td>No</td>\n",
              "      <td>GLQ</td>\n",
              "      <td>275.0</td>\n",
              "      <td>Unf</td>\n",
              "      <td>0.0</td>\n",
              "      <td>877.0</td>\n",
              "      <td>1152.0</td>\n",
              "      <td>GasA</td>\n",
              "      <td>Ex</td>\n",
              "      <td>Y</td>\n",
              "      <td>SBrkr</td>\n",
              "      <td>1188</td>\n",
              "      <td>1152</td>\n",
              "      <td>0</td>\n",
              "      <td>2340</td>\n",
              "      <td>0.0</td>\n",
              "      <td>0.0</td>\n",
              "      <td>2</td>\n",
              "      <td>0</td>\n",
              "      <td>4</td>\n",
              "      <td>1</td>\n",
              "      <td>Gd</td>\n",
              "      <td>9</td>\n",
              "      <td>Typ</td>\n",
              "      <td>2</td>\n",
              "      <td>Gd</td>\n",
              "      <td>Attchd</td>\n",
              "      <td>1941.0</td>\n",
              "      <td>RFn</td>\n",
              "      <td>1.0</td>\n",
              "      <td>TA</td>\n",
              "      <td>TA</td>\n",
              "      <td>Y</td>\n",
              "      <td>0</td>\n",
              "      <td>60</td>\n",
              "      <td>0</td>\n",
              "      <td>0</td>\n",
              "      <td>0</td>\n",
              "      <td>0</td>\n",
              "      <td>NaN</td>\n",
              "      <td>GdPrv</td>\n",
              "      <td>Shed</td>\n",
              "      <td>2500</td>\n",
              "      <td>5</td>\n",
              "      <td>2010</td>\n",
              "      <td>WD</td>\n",
              "      <td>Normal</td>\n",
              "    </tr>\n",
              "    <tr>\n",
              "      <th>1458</th>\n",
              "      <td>20</td>\n",
              "      <td>RL</td>\n",
              "      <td>68.0</td>\n",
              "      <td>9717</td>\n",
              "      <td>Pave</td>\n",
              "      <td>NaN</td>\n",
              "      <td>Reg</td>\n",
              "      <td>Lvl</td>\n",
              "      <td>AllPub</td>\n",
              "      <td>Inside</td>\n",
              "      <td>Gtl</td>\n",
              "      <td>NAmes</td>\n",
              "      <td>Norm</td>\n",
              "      <td>Norm</td>\n",
              "      <td>1Fam</td>\n",
              "      <td>1Story</td>\n",
              "      <td>5</td>\n",
              "      <td>6</td>\n",
              "      <td>1950</td>\n",
              "      <td>1996</td>\n",
              "      <td>Hip</td>\n",
              "      <td>CompShg</td>\n",
              "      <td>MetalSd</td>\n",
              "      <td>MetalSd</td>\n",
              "      <td>None</td>\n",
              "      <td>0.0</td>\n",
              "      <td>TA</td>\n",
              "      <td>TA</td>\n",
              "      <td>CBlock</td>\n",
              "      <td>TA</td>\n",
              "      <td>TA</td>\n",
              "      <td>Mn</td>\n",
              "      <td>GLQ</td>\n",
              "      <td>49.0</td>\n",
              "      <td>Rec</td>\n",
              "      <td>1029.0</td>\n",
              "      <td>0.0</td>\n",
              "      <td>1078.0</td>\n",
              "      <td>GasA</td>\n",
              "      <td>Gd</td>\n",
              "      <td>Y</td>\n",
              "      <td>FuseA</td>\n",
              "      <td>1078</td>\n",
              "      <td>0</td>\n",
              "      <td>0</td>\n",
              "      <td>1078</td>\n",
              "      <td>1.0</td>\n",
              "      <td>0.0</td>\n",
              "      <td>1</td>\n",
              "      <td>0</td>\n",
              "      <td>2</td>\n",
              "      <td>1</td>\n",
              "      <td>Gd</td>\n",
              "      <td>5</td>\n",
              "      <td>Typ</td>\n",
              "      <td>0</td>\n",
              "      <td>NaN</td>\n",
              "      <td>Attchd</td>\n",
              "      <td>1950.0</td>\n",
              "      <td>Unf</td>\n",
              "      <td>1.0</td>\n",
              "      <td>TA</td>\n",
              "      <td>TA</td>\n",
              "      <td>Y</td>\n",
              "      <td>366</td>\n",
              "      <td>0</td>\n",
              "      <td>112</td>\n",
              "      <td>0</td>\n",
              "      <td>0</td>\n",
              "      <td>0</td>\n",
              "      <td>NaN</td>\n",
              "      <td>NaN</td>\n",
              "      <td>NaN</td>\n",
              "      <td>0</td>\n",
              "      <td>4</td>\n",
              "      <td>2010</td>\n",
              "      <td>WD</td>\n",
              "      <td>Normal</td>\n",
              "    </tr>\n",
              "    <tr>\n",
              "      <th>1459</th>\n",
              "      <td>20</td>\n",
              "      <td>RL</td>\n",
              "      <td>75.0</td>\n",
              "      <td>9937</td>\n",
              "      <td>Pave</td>\n",
              "      <td>NaN</td>\n",
              "      <td>Reg</td>\n",
              "      <td>Lvl</td>\n",
              "      <td>AllPub</td>\n",
              "      <td>Inside</td>\n",
              "      <td>Gtl</td>\n",
              "      <td>Edwards</td>\n",
              "      <td>Norm</td>\n",
              "      <td>Norm</td>\n",
              "      <td>1Fam</td>\n",
              "      <td>1Story</td>\n",
              "      <td>5</td>\n",
              "      <td>6</td>\n",
              "      <td>1965</td>\n",
              "      <td>1965</td>\n",
              "      <td>Gable</td>\n",
              "      <td>CompShg</td>\n",
              "      <td>HdBoard</td>\n",
              "      <td>HdBoard</td>\n",
              "      <td>None</td>\n",
              "      <td>0.0</td>\n",
              "      <td>Gd</td>\n",
              "      <td>TA</td>\n",
              "      <td>CBlock</td>\n",
              "      <td>TA</td>\n",
              "      <td>TA</td>\n",
              "      <td>No</td>\n",
              "      <td>BLQ</td>\n",
              "      <td>830.0</td>\n",
              "      <td>LwQ</td>\n",
              "      <td>290.0</td>\n",
              "      <td>136.0</td>\n",
              "      <td>1256.0</td>\n",
              "      <td>GasA</td>\n",
              "      <td>Gd</td>\n",
              "      <td>Y</td>\n",
              "      <td>SBrkr</td>\n",
              "      <td>1256</td>\n",
              "      <td>0</td>\n",
              "      <td>0</td>\n",
              "      <td>1256</td>\n",
              "      <td>1.0</td>\n",
              "      <td>0.0</td>\n",
              "      <td>1</td>\n",
              "      <td>1</td>\n",
              "      <td>3</td>\n",
              "      <td>1</td>\n",
              "      <td>TA</td>\n",
              "      <td>6</td>\n",
              "      <td>Typ</td>\n",
              "      <td>0</td>\n",
              "      <td>NaN</td>\n",
              "      <td>Attchd</td>\n",
              "      <td>1965.0</td>\n",
              "      <td>Fin</td>\n",
              "      <td>1.0</td>\n",
              "      <td>TA</td>\n",
              "      <td>TA</td>\n",
              "      <td>Y</td>\n",
              "      <td>736</td>\n",
              "      <td>68</td>\n",
              "      <td>0</td>\n",
              "      <td>0</td>\n",
              "      <td>0</td>\n",
              "      <td>0</td>\n",
              "      <td>NaN</td>\n",
              "      <td>NaN</td>\n",
              "      <td>NaN</td>\n",
              "      <td>0</td>\n",
              "      <td>6</td>\n",
              "      <td>2008</td>\n",
              "      <td>WD</td>\n",
              "      <td>Normal</td>\n",
              "    </tr>\n",
              "  </tbody>\n",
              "</table>\n",
              "</div>\n",
              "      <button class=\"colab-df-convert\" onclick=\"convertToInteractive('df-2543be00-c0d3-4322-b858-af5dbf01e0d3')\"\n",
              "              title=\"Convert this dataframe to an interactive table.\"\n",
              "              style=\"display:none;\">\n",
              "        \n",
              "  <svg xmlns=\"http://www.w3.org/2000/svg\" height=\"24px\"viewBox=\"0 0 24 24\"\n",
              "       width=\"24px\">\n",
              "    <path d=\"M0 0h24v24H0V0z\" fill=\"none\"/>\n",
              "    <path d=\"M18.56 5.44l.94 2.06.94-2.06 2.06-.94-2.06-.94-.94-2.06-.94 2.06-2.06.94zm-11 1L8.5 8.5l.94-2.06 2.06-.94-2.06-.94L8.5 2.5l-.94 2.06-2.06.94zm10 10l.94 2.06.94-2.06 2.06-.94-2.06-.94-.94-2.06-.94 2.06-2.06.94z\"/><path d=\"M17.41 7.96l-1.37-1.37c-.4-.4-.92-.59-1.43-.59-.52 0-1.04.2-1.43.59L10.3 9.45l-7.72 7.72c-.78.78-.78 2.05 0 2.83L4 21.41c.39.39.9.59 1.41.59.51 0 1.02-.2 1.41-.59l7.78-7.78 2.81-2.81c.8-.78.8-2.07 0-2.86zM5.41 20L4 18.59l7.72-7.72 1.47 1.35L5.41 20z\"/>\n",
              "  </svg>\n",
              "      </button>\n",
              "      \n",
              "  <style>\n",
              "    .colab-df-container {\n",
              "      display:flex;\n",
              "      flex-wrap:wrap;\n",
              "      gap: 12px;\n",
              "    }\n",
              "\n",
              "    .colab-df-convert {\n",
              "      background-color: #E8F0FE;\n",
              "      border: none;\n",
              "      border-radius: 50%;\n",
              "      cursor: pointer;\n",
              "      display: none;\n",
              "      fill: #1967D2;\n",
              "      height: 32px;\n",
              "      padding: 0 0 0 0;\n",
              "      width: 32px;\n",
              "    }\n",
              "\n",
              "    .colab-df-convert:hover {\n",
              "      background-color: #E2EBFA;\n",
              "      box-shadow: 0px 1px 2px rgba(60, 64, 67, 0.3), 0px 1px 3px 1px rgba(60, 64, 67, 0.15);\n",
              "      fill: #174EA6;\n",
              "    }\n",
              "\n",
              "    [theme=dark] .colab-df-convert {\n",
              "      background-color: #3B4455;\n",
              "      fill: #D2E3FC;\n",
              "    }\n",
              "\n",
              "    [theme=dark] .colab-df-convert:hover {\n",
              "      background-color: #434B5C;\n",
              "      box-shadow: 0px 1px 3px 1px rgba(0, 0, 0, 0.15);\n",
              "      filter: drop-shadow(0px 1px 2px rgba(0, 0, 0, 0.3));\n",
              "      fill: #FFFFFF;\n",
              "    }\n",
              "  </style>\n",
              "\n",
              "      <script>\n",
              "        const buttonEl =\n",
              "          document.querySelector('#df-2543be00-c0d3-4322-b858-af5dbf01e0d3 button.colab-df-convert');\n",
              "        buttonEl.style.display =\n",
              "          google.colab.kernel.accessAllowed ? 'block' : 'none';\n",
              "\n",
              "        async function convertToInteractive(key) {\n",
              "          const element = document.querySelector('#df-2543be00-c0d3-4322-b858-af5dbf01e0d3');\n",
              "          const dataTable =\n",
              "            await google.colab.kernel.invokeFunction('convertToInteractive',\n",
              "                                                     [key], {});\n",
              "          if (!dataTable) return;\n",
              "\n",
              "          const docLinkHtml = 'Like what you see? Visit the ' +\n",
              "            '<a target=\"_blank\" href=https://colab.research.google.com/notebooks/data_table.ipynb>data table notebook</a>'\n",
              "            + ' to learn more about interactive tables.';\n",
              "          element.innerHTML = '';\n",
              "          dataTable['output_type'] = 'display_data';\n",
              "          await google.colab.output.renderOutput(dataTable, element);\n",
              "          const docLink = document.createElement('div');\n",
              "          docLink.innerHTML = docLinkHtml;\n",
              "          element.appendChild(docLink);\n",
              "        }\n",
              "      </script>\n",
              "    </div>\n",
              "  </div>\n",
              "  "
            ],
            "text/plain": [
              "      MSSubClass MSZoning  LotFrontage  ...  YrSold SaleType SaleCondition\n",
              "1455          60       RL         62.0  ...    2007       WD        Normal\n",
              "1456          20       RL         85.0  ...    2010       WD        Normal\n",
              "1457          70       RL         66.0  ...    2010       WD        Normal\n",
              "1458          20       RL         68.0  ...    2010       WD        Normal\n",
              "1459          20       RL         75.0  ...    2008       WD        Normal\n",
              "\n",
              "[5 rows x 78 columns]"
            ]
          },
          "metadata": {},
          "execution_count": 427
        }
      ]
    },
    {
      "cell_type": "code",
      "source": [
        "items = df_concat[['TotalBsmtSF', '1stFlrSF', '2ndFlrSF']]\n",
        "df_concat.TotalBsmtSF.fillna(0, inplace=True)\n",
        "df_concat['TotalSF'] = df_concat['TotalBsmtSF'] + df_concat['1stFlrSF'] + df_concat['2ndFlrSF']\n",
        "df_concat.drop(['TotalBsmtSF', '1stFlrSF', '2ndFlrSF'], axis=1, inplace=True)\n",
        "\n",
        "# remaining_cols = set(df_concat.columns).difference(set(cols))\n",
        "# len(remaining_cols), remaining_cols"
      ],
      "metadata": {
        "id": "oJrV6nIai8E8"
      },
      "execution_count": 428,
      "outputs": []
    },
    {
      "cell_type": "code",
      "source": [
        "# df_concat = df_concat[cols]\n",
        "# df_concat.describe(include='all')"
      ],
      "metadata": {
        "id": "SXEgmOupUF8B"
      },
      "execution_count": 429,
      "outputs": []
    },
    {
      "cell_type": "code",
      "source": [
        "df_concat['GarageCars'].fillna(0, inplace=True)\n",
        "df_concat['BsmtHalfBath'].fillna(0, inplace=True)\n",
        "df_concat['BsmtFullBath'].fillna(0, inplace=True)\n",
        "df_concat['MSZoning'].fillna('RL', inplace=True)"
      ],
      "metadata": {
        "id": "FKXFttCtec0y"
      },
      "execution_count": 430,
      "outputs": []
    },
    {
      "cell_type": "code",
      "source": [
        "df_concat['LotFrontage'] = df_concat.groupby('Neighborhood')['LotFrontage'].transform(lambda x: x.fillna(x.median()))\n",
        "df_concat.drop('Neighborhood', axis=1, inplace=True)"
      ],
      "metadata": {
        "id": "rxVA-5S2tC-q"
      },
      "execution_count": 431,
      "outputs": []
    },
    {
      "cell_type": "code",
      "source": [
        "missing = df_concat.isna().sum()\n",
        "missing[missing > 0]"
      ],
      "metadata": {
        "id": "N0rb-P_9afWA",
        "outputId": "2e2d7457-7951-4058-b3ea-a9d66b829cd6",
        "colab": {
          "base_uri": "https://localhost:8080/"
        }
      },
      "execution_count": 432,
      "outputs": [
        {
          "output_type": "execute_result",
          "data": {
            "text/plain": [
              "Alley           2721\n",
              "Utilities          2\n",
              "Exterior1st        1\n",
              "Exterior2nd        1\n",
              "MasVnrType        24\n",
              "MasVnrArea        23\n",
              "BsmtQual          81\n",
              "BsmtCond          82\n",
              "BsmtExposure      82\n",
              "BsmtFinType1      79\n",
              "BsmtFinSF1         1\n",
              "BsmtFinType2      80\n",
              "BsmtFinSF2         1\n",
              "BsmtUnfSF          1\n",
              "Electrical         1\n",
              "KitchenQual        1\n",
              "Functional         2\n",
              "FireplaceQu     1420\n",
              "GarageType       157\n",
              "GarageYrBlt      159\n",
              "GarageFinish     159\n",
              "GarageQual       159\n",
              "GarageCond       159\n",
              "PoolQC          2909\n",
              "Fence           2348\n",
              "MiscFeature     2814\n",
              "SaleType           1\n",
              "dtype: int64"
            ]
          },
          "metadata": {},
          "execution_count": 432
        }
      ]
    },
    {
      "cell_type": "markdown",
      "source": [
        "# Get rid of all other NA"
      ],
      "metadata": {
        "id": "jEgrtcR_wzP3"
      }
    },
    {
      "cell_type": "code",
      "source": [
        "missing = df_concat.isna().sum()\n",
        "cols_to_remove = missing[missing>0].sort_values(ascending=False)\n",
        "df_concat.drop(cols_to_remove.index, axis=1, inplace=True)"
      ],
      "metadata": {
        "id": "P6ZQUHe1w6_-"
      },
      "execution_count": 433,
      "outputs": []
    },
    {
      "cell_type": "code",
      "source": [
        "# Don't delet rows, cause that'll remove the rows from test set too\n",
        "\n",
        "# rows_to_drop = df_concat[df_concat.isna().any(axis=1)]\n",
        "# df_concat.drop(rows_to_drop.index, inplace=True)"
      ],
      "metadata": {
        "id": "wO6MccHmxzkl"
      },
      "execution_count": 434,
      "outputs": []
    },
    {
      "cell_type": "code",
      "source": [
        "missing = df_concat.isna().sum()\n",
        "missing[missing>0]"
      ],
      "metadata": {
        "id": "Uczw8bNMyB-o",
        "outputId": "cb53e39e-0b11-4345-8f59-83a8f7e70aed",
        "colab": {
          "base_uri": "https://localhost:8080/"
        }
      },
      "execution_count": 435,
      "outputs": [
        {
          "output_type": "execute_result",
          "data": {
            "text/plain": [
              "Series([], dtype: int64)"
            ]
          },
          "metadata": {},
          "execution_count": 435
        }
      ]
    },
    {
      "cell_type": "markdown",
      "source": [
        "# Data prep"
      ],
      "metadata": {
        "id": "jh03VXdbw21u"
      }
    },
    {
      "cell_type": "code",
      "source": [
        "from sklearn.compose import make_column_transformer\n",
        "from sklearn.preprocessing import MinMaxScaler, OneHotEncoder\n",
        "\n",
        "categorical_cols, numerical_cols = get_cols(df_concat)\n",
        "print(categorical_cols)\n",
        "print(numerical_cols)\n",
        "\n",
        "ct = make_column_transformer(\n",
        "  (MinMaxScaler(), numerical_cols),\n",
        "  (OneHotEncoder(handle_unknown='ignore'), categorical_cols)\n",
        ")\n",
        "\n",
        "ct.fit(df_concat)"
      ],
      "metadata": {
        "id": "m_i9jFtmVbF0",
        "outputId": "fefcbdde-899d-4d98-de16-93a467e8bf21",
        "colab": {
          "base_uri": "https://localhost:8080/"
        }
      },
      "execution_count": 436,
      "outputs": [
        {
          "output_type": "stream",
          "name": "stdout",
          "text": [
            "['MSZoning', 'Street', 'LotShape', 'LandContour', 'LotConfig', 'LandSlope', 'Condition1', 'Condition2', 'BldgType', 'HouseStyle', 'RoofStyle', 'RoofMatl', 'ExterQual', 'ExterCond', 'Foundation', 'Heating', 'HeatingQC', 'CentralAir', 'PavedDrive', 'SaleCondition']\n",
            "['MSSubClass', 'LotFrontage', 'LotArea', 'OverallQual', 'OverallCond', 'YearBuilt', 'YearRemodAdd', 'LowQualFinSF', 'GrLivArea', 'BsmtFullBath', 'BsmtHalfBath', 'FullBath', 'HalfBath', 'BedroomAbvGr', 'KitchenAbvGr', 'TotRmsAbvGrd', 'Fireplaces', 'GarageCars', 'WoodDeckSF', 'OpenPorchSF', 'EnclosedPorch', '3SsnPorch', 'ScreenPorch', 'PoolArea', 'MiscVal', 'MoSold', 'YrSold', 'TotalSF']\n"
          ]
        },
        {
          "output_type": "execute_result",
          "data": {
            "text/plain": [
              "ColumnTransformer(transformers=[('minmaxscaler', MinMaxScaler(),\n",
              "                                 ['MSSubClass', 'LotFrontage', 'LotArea',\n",
              "                                  'OverallQual', 'OverallCond', 'YearBuilt',\n",
              "                                  'YearRemodAdd', 'LowQualFinSF', 'GrLivArea',\n",
              "                                  'BsmtFullBath', 'BsmtHalfBath', 'FullBath',\n",
              "                                  'HalfBath', 'BedroomAbvGr', 'KitchenAbvGr',\n",
              "                                  'TotRmsAbvGrd', 'Fireplaces', 'GarageCars',\n",
              "                                  'WoodDeckSF', 'OpenPorchSF', 'EnclosedPorch',\n",
              "                                  '...lArea',\n",
              "                                  'MiscVal', 'MoSold', 'YrSold', 'TotalSF']),\n",
              "                                ('onehotencoder',\n",
              "                                 OneHotEncoder(handle_unknown='ignore'),\n",
              "                                 ['MSZoning', 'Street', 'LotShape',\n",
              "                                  'LandContour', 'LotConfig', 'LandSlope',\n",
              "                                  'Condition1', 'Condition2', 'BldgType',\n",
              "                                  'HouseStyle', 'RoofStyle', 'RoofMatl',\n",
              "                                  'ExterQual', 'ExterCond', 'Foundation',\n",
              "                                  'Heating', 'HeatingQC', 'CentralAir',\n",
              "                                  'PavedDrive', 'SaleCondition'])])"
            ]
          },
          "metadata": {},
          "execution_count": 436
        }
      ]
    },
    {
      "cell_type": "code",
      "source": [
        "X_normal = ct.transform(df_concat)\n",
        "print(ct.get_feature_names_out())\n",
        "X_normal.shape"
      ],
      "metadata": {
        "id": "IcyRtaxUXfNk",
        "outputId": "4eafa64d-6135-4ed3-e33b-689247d2fa8f",
        "colab": {
          "base_uri": "https://localhost:8080/"
        }
      },
      "execution_count": 437,
      "outputs": [
        {
          "output_type": "stream",
          "name": "stdout",
          "text": [
            "['minmaxscaler__MSSubClass' 'minmaxscaler__LotFrontage'\n",
            " 'minmaxscaler__LotArea' 'minmaxscaler__OverallQual'\n",
            " 'minmaxscaler__OverallCond' 'minmaxscaler__YearBuilt'\n",
            " 'minmaxscaler__YearRemodAdd' 'minmaxscaler__LowQualFinSF'\n",
            " 'minmaxscaler__GrLivArea' 'minmaxscaler__BsmtFullBath'\n",
            " 'minmaxscaler__BsmtHalfBath' 'minmaxscaler__FullBath'\n",
            " 'minmaxscaler__HalfBath' 'minmaxscaler__BedroomAbvGr'\n",
            " 'minmaxscaler__KitchenAbvGr' 'minmaxscaler__TotRmsAbvGrd'\n",
            " 'minmaxscaler__Fireplaces' 'minmaxscaler__GarageCars'\n",
            " 'minmaxscaler__WoodDeckSF' 'minmaxscaler__OpenPorchSF'\n",
            " 'minmaxscaler__EnclosedPorch' 'minmaxscaler__3SsnPorch'\n",
            " 'minmaxscaler__ScreenPorch' 'minmaxscaler__PoolArea'\n",
            " 'minmaxscaler__MiscVal' 'minmaxscaler__MoSold' 'minmaxscaler__YrSold'\n",
            " 'minmaxscaler__TotalSF' 'onehotencoder__MSZoning_C (all)'\n",
            " 'onehotencoder__MSZoning_FV' 'onehotencoder__MSZoning_RH'\n",
            " 'onehotencoder__MSZoning_RL' 'onehotencoder__MSZoning_RM'\n",
            " 'onehotencoder__Street_Grvl' 'onehotencoder__Street_Pave'\n",
            " 'onehotencoder__LotShape_IR1' 'onehotencoder__LotShape_IR2'\n",
            " 'onehotencoder__LotShape_IR3' 'onehotencoder__LotShape_Reg'\n",
            " 'onehotencoder__LandContour_Bnk' 'onehotencoder__LandContour_HLS'\n",
            " 'onehotencoder__LandContour_Low' 'onehotencoder__LandContour_Lvl'\n",
            " 'onehotencoder__LotConfig_Corner' 'onehotencoder__LotConfig_CulDSac'\n",
            " 'onehotencoder__LotConfig_FR2' 'onehotencoder__LotConfig_FR3'\n",
            " 'onehotencoder__LotConfig_Inside' 'onehotencoder__LandSlope_Gtl'\n",
            " 'onehotencoder__LandSlope_Mod' 'onehotencoder__LandSlope_Sev'\n",
            " 'onehotencoder__Condition1_Artery' 'onehotencoder__Condition1_Feedr'\n",
            " 'onehotencoder__Condition1_Norm' 'onehotencoder__Condition1_PosA'\n",
            " 'onehotencoder__Condition1_PosN' 'onehotencoder__Condition1_RRAe'\n",
            " 'onehotencoder__Condition1_RRAn' 'onehotencoder__Condition1_RRNe'\n",
            " 'onehotencoder__Condition1_RRNn' 'onehotencoder__Condition2_Artery'\n",
            " 'onehotencoder__Condition2_Feedr' 'onehotencoder__Condition2_Norm'\n",
            " 'onehotencoder__Condition2_PosA' 'onehotencoder__Condition2_PosN'\n",
            " 'onehotencoder__Condition2_RRAe' 'onehotencoder__Condition2_RRAn'\n",
            " 'onehotencoder__Condition2_RRNn' 'onehotencoder__BldgType_1Fam'\n",
            " 'onehotencoder__BldgType_2fmCon' 'onehotencoder__BldgType_Duplex'\n",
            " 'onehotencoder__BldgType_Twnhs' 'onehotencoder__BldgType_TwnhsE'\n",
            " 'onehotencoder__HouseStyle_1.5Fin' 'onehotencoder__HouseStyle_1.5Unf'\n",
            " 'onehotencoder__HouseStyle_1Story' 'onehotencoder__HouseStyle_2.5Fin'\n",
            " 'onehotencoder__HouseStyle_2.5Unf' 'onehotencoder__HouseStyle_2Story'\n",
            " 'onehotencoder__HouseStyle_SFoyer' 'onehotencoder__HouseStyle_SLvl'\n",
            " 'onehotencoder__RoofStyle_Flat' 'onehotencoder__RoofStyle_Gable'\n",
            " 'onehotencoder__RoofStyle_Gambrel' 'onehotencoder__RoofStyle_Hip'\n",
            " 'onehotencoder__RoofStyle_Mansard' 'onehotencoder__RoofStyle_Shed'\n",
            " 'onehotencoder__RoofMatl_ClyTile' 'onehotencoder__RoofMatl_CompShg'\n",
            " 'onehotencoder__RoofMatl_Membran' 'onehotencoder__RoofMatl_Metal'\n",
            " 'onehotencoder__RoofMatl_Roll' 'onehotencoder__RoofMatl_Tar&Grv'\n",
            " 'onehotencoder__RoofMatl_WdShake' 'onehotencoder__RoofMatl_WdShngl'\n",
            " 'onehotencoder__ExterQual_Ex' 'onehotencoder__ExterQual_Fa'\n",
            " 'onehotencoder__ExterQual_Gd' 'onehotencoder__ExterQual_TA'\n",
            " 'onehotencoder__ExterCond_Ex' 'onehotencoder__ExterCond_Fa'\n",
            " 'onehotencoder__ExterCond_Gd' 'onehotencoder__ExterCond_Po'\n",
            " 'onehotencoder__ExterCond_TA' 'onehotencoder__Foundation_BrkTil'\n",
            " 'onehotencoder__Foundation_CBlock' 'onehotencoder__Foundation_PConc'\n",
            " 'onehotencoder__Foundation_Slab' 'onehotencoder__Foundation_Stone'\n",
            " 'onehotencoder__Foundation_Wood' 'onehotencoder__Heating_Floor'\n",
            " 'onehotencoder__Heating_GasA' 'onehotencoder__Heating_GasW'\n",
            " 'onehotencoder__Heating_Grav' 'onehotencoder__Heating_OthW'\n",
            " 'onehotencoder__Heating_Wall' 'onehotencoder__HeatingQC_Ex'\n",
            " 'onehotencoder__HeatingQC_Fa' 'onehotencoder__HeatingQC_Gd'\n",
            " 'onehotencoder__HeatingQC_Po' 'onehotencoder__HeatingQC_TA'\n",
            " 'onehotencoder__CentralAir_N' 'onehotencoder__CentralAir_Y'\n",
            " 'onehotencoder__PavedDrive_N' 'onehotencoder__PavedDrive_P'\n",
            " 'onehotencoder__PavedDrive_Y' 'onehotencoder__SaleCondition_Abnorml'\n",
            " 'onehotencoder__SaleCondition_AdjLand'\n",
            " 'onehotencoder__SaleCondition_Alloca'\n",
            " 'onehotencoder__SaleCondition_Family'\n",
            " 'onehotencoder__SaleCondition_Normal'\n",
            " 'onehotencoder__SaleCondition_Partial']\n"
          ]
        },
        {
          "output_type": "execute_result",
          "data": {
            "text/plain": [
              "(2919, 132)"
            ]
          },
          "metadata": {},
          "execution_count": 437
        }
      ]
    },
    {
      "cell_type": "code",
      "source": [
        "train_normal = X_normal[:len(train_ID)]\n",
        "test_normal = X_normal[len(train_ID):]\n",
        "\n",
        "train_normal.shape, test_normal.shape"
      ],
      "metadata": {
        "id": "uvfS5HvFaq6m",
        "outputId": "18e49052-7bb1-4033-f965-2ade56361175",
        "colab": {
          "base_uri": "https://localhost:8080/"
        }
      },
      "execution_count": 438,
      "outputs": [
        {
          "output_type": "execute_result",
          "data": {
            "text/plain": [
              "((1460, 132), (1459, 132))"
            ]
          },
          "metadata": {},
          "execution_count": 438
        }
      ]
    },
    {
      "cell_type": "code",
      "source": [
        "from sklearn.model_selection import train_test_split\n",
        "\n",
        "X_train, X_test, y_train, y_test = train_test_split(train_normal, train_ds['SalePrice'], test_size=.2, random_state=42)\n",
        "X_train.shape, X_test.shape, y_train.shape, y_test.shape"
      ],
      "metadata": {
        "id": "vPpdDcuxbc62",
        "outputId": "becd5fa7-0e62-4a96-d560-5c096898d72c",
        "colab": {
          "base_uri": "https://localhost:8080/"
        }
      },
      "execution_count": 439,
      "outputs": [
        {
          "output_type": "execute_result",
          "data": {
            "text/plain": [
              "((1168, 132), (292, 132), (1168,), (292,))"
            ]
          },
          "metadata": {},
          "execution_count": 439
        }
      ]
    },
    {
      "cell_type": "code",
      "source": [
        "model_0 = tf.keras.Sequential([\n",
        "  layers.Dense(100, activation='relu'),\n",
        "  layers.Dense(10, activation='relu'),\n",
        "  layers.Dense(1, activation='linear')\n",
        "])\n",
        "\n",
        "model_0.compile(loss=losses.mae,\n",
        "                optimizer=optimizers.Adam(learning_rate=1e-1),\n",
        "                metrics=['mae'])\n",
        "\n",
        "es_cb = tf.keras.callbacks.EarlyStopping(monitor='val_loss', patience=10)\n",
        "lr_cb = tf.keras.callbacks.ReduceLROnPlateau(patience=5, monitor='val_loss', min_lr=1e-5)\n",
        "\n",
        "model_0_fit = model_0.fit(X_train, y_train, epochs=1000, validation_data=(X_test, y_test), callbacks=[lr_cb, es_cb])\n",
        "\n",
        "# 23553.1719\n",
        "# 21672.6387\n",
        "# 17448.3223"
      ],
      "metadata": {
        "id": "j5CO3ufcbxnO",
        "outputId": "c9f92022-eb06-486a-bea8-a18e27163c95",
        "colab": {
          "base_uri": "https://localhost:8080/"
        }
      },
      "execution_count": 440,
      "outputs": [
        {
          "output_type": "stream",
          "name": "stdout",
          "text": [
            "Epoch 1/1000\n",
            "37/37 [==============================] - 1s 6ms/step - loss: 141043.7188 - mae: 141043.7188 - val_loss: 63949.2344 - val_mae: 63949.2344 - lr: 0.1000\n",
            "Epoch 2/1000\n",
            "37/37 [==============================] - 0s 3ms/step - loss: 45563.1172 - mae: 45563.1172 - val_loss: 40020.6328 - val_mae: 40020.6328 - lr: 0.1000\n",
            "Epoch 3/1000\n",
            "37/37 [==============================] - 0s 3ms/step - loss: 33511.0391 - mae: 33511.0391 - val_loss: 33107.3203 - val_mae: 33107.3203 - lr: 0.1000\n",
            "Epoch 4/1000\n",
            "37/37 [==============================] - 0s 4ms/step - loss: 30389.6328 - mae: 30389.6328 - val_loss: 31011.7090 - val_mae: 31011.7090 - lr: 0.1000\n",
            "Epoch 5/1000\n",
            "37/37 [==============================] - 0s 3ms/step - loss: 28443.7988 - mae: 28443.7988 - val_loss: 29829.0820 - val_mae: 29829.0820 - lr: 0.1000\n",
            "Epoch 6/1000\n",
            "37/37 [==============================] - 0s 3ms/step - loss: 26608.4141 - mae: 26608.4141 - val_loss: 29622.0957 - val_mae: 29622.0957 - lr: 0.1000\n",
            "Epoch 7/1000\n",
            "37/37 [==============================] - 0s 3ms/step - loss: 25328.4395 - mae: 25328.4395 - val_loss: 26834.5957 - val_mae: 26834.5957 - lr: 0.1000\n",
            "Epoch 8/1000\n",
            "37/37 [==============================] - 0s 3ms/step - loss: 23900.9180 - mae: 23900.9180 - val_loss: 25986.4375 - val_mae: 25986.4375 - lr: 0.1000\n",
            "Epoch 9/1000\n",
            "37/37 [==============================] - 0s 4ms/step - loss: 23332.8340 - mae: 23332.8340 - val_loss: 25144.5762 - val_mae: 25144.5762 - lr: 0.1000\n",
            "Epoch 10/1000\n",
            "37/37 [==============================] - 0s 3ms/step - loss: 22433.7188 - mae: 22433.7188 - val_loss: 24369.0430 - val_mae: 24369.0430 - lr: 0.1000\n",
            "Epoch 11/1000\n",
            "37/37 [==============================] - 0s 3ms/step - loss: 22869.1465 - mae: 22869.1465 - val_loss: 24848.4922 - val_mae: 24848.4922 - lr: 0.1000\n",
            "Epoch 12/1000\n",
            "37/37 [==============================] - 0s 3ms/step - loss: 21699.3164 - mae: 21699.3164 - val_loss: 23377.5215 - val_mae: 23377.5215 - lr: 0.1000\n",
            "Epoch 13/1000\n",
            "37/37 [==============================] - 0s 3ms/step - loss: 21231.2734 - mae: 21231.2734 - val_loss: 23099.3730 - val_mae: 23099.3730 - lr: 0.1000\n",
            "Epoch 14/1000\n",
            "37/37 [==============================] - 0s 3ms/step - loss: 21051.4316 - mae: 21051.4316 - val_loss: 22540.2773 - val_mae: 22540.2773 - lr: 0.1000\n",
            "Epoch 15/1000\n",
            "37/37 [==============================] - 0s 3ms/step - loss: 21056.1777 - mae: 21056.1777 - val_loss: 24274.7812 - val_mae: 24274.7812 - lr: 0.1000\n",
            "Epoch 16/1000\n",
            "37/37 [==============================] - 0s 4ms/step - loss: 20705.8750 - mae: 20705.8750 - val_loss: 22760.8145 - val_mae: 22760.8145 - lr: 0.1000\n",
            "Epoch 17/1000\n",
            "37/37 [==============================] - 0s 3ms/step - loss: 20287.6680 - mae: 20287.6680 - val_loss: 23252.3828 - val_mae: 23252.3828 - lr: 0.1000\n",
            "Epoch 18/1000\n",
            "37/37 [==============================] - 0s 3ms/step - loss: 20911.1406 - mae: 20911.1406 - val_loss: 23059.7148 - val_mae: 23059.7148 - lr: 0.1000\n",
            "Epoch 19/1000\n",
            "37/37 [==============================] - 0s 3ms/step - loss: 20354.7324 - mae: 20354.7324 - val_loss: 21609.6250 - val_mae: 21609.6250 - lr: 0.1000\n",
            "Epoch 20/1000\n",
            "37/37 [==============================] - 0s 3ms/step - loss: 19895.8574 - mae: 19895.8574 - val_loss: 21686.2695 - val_mae: 21686.2695 - lr: 0.1000\n",
            "Epoch 21/1000\n",
            "37/37 [==============================] - 0s 3ms/step - loss: 19814.2891 - mae: 19814.2891 - val_loss: 21665.1855 - val_mae: 21665.1855 - lr: 0.1000\n",
            "Epoch 22/1000\n",
            "37/37 [==============================] - 0s 3ms/step - loss: 18881.0898 - mae: 18881.0898 - val_loss: 20994.7070 - val_mae: 20994.7070 - lr: 0.1000\n",
            "Epoch 23/1000\n",
            "37/37 [==============================] - 0s 3ms/step - loss: 18801.2031 - mae: 18801.2031 - val_loss: 20616.5820 - val_mae: 20616.5820 - lr: 0.1000\n",
            "Epoch 24/1000\n",
            "37/37 [==============================] - 0s 3ms/step - loss: 18957.7285 - mae: 18957.7285 - val_loss: 20488.5098 - val_mae: 20488.5098 - lr: 0.1000\n",
            "Epoch 25/1000\n",
            "37/37 [==============================] - 0s 3ms/step - loss: 18351.1953 - mae: 18351.1953 - val_loss: 20558.7109 - val_mae: 20558.7109 - lr: 0.1000\n",
            "Epoch 26/1000\n",
            "37/37 [==============================] - 0s 9ms/step - loss: 18428.8086 - mae: 18428.8086 - val_loss: 19905.2070 - val_mae: 19905.2070 - lr: 0.1000\n",
            "Epoch 27/1000\n",
            "37/37 [==============================] - 0s 7ms/step - loss: 18651.5801 - mae: 18651.5801 - val_loss: 19972.1973 - val_mae: 19972.1973 - lr: 0.1000\n",
            "Epoch 28/1000\n",
            "37/37 [==============================] - 0s 8ms/step - loss: 18398.0977 - mae: 18398.0977 - val_loss: 20066.6211 - val_mae: 20066.6211 - lr: 0.1000\n",
            "Epoch 29/1000\n",
            "37/37 [==============================] - 0s 8ms/step - loss: 17634.3730 - mae: 17634.3730 - val_loss: 19574.2090 - val_mae: 19574.2090 - lr: 0.1000\n",
            "Epoch 30/1000\n",
            "37/37 [==============================] - 0s 5ms/step - loss: 17520.6250 - mae: 17520.6250 - val_loss: 19625.2480 - val_mae: 19625.2480 - lr: 0.1000\n",
            "Epoch 31/1000\n",
            "37/37 [==============================] - 0s 3ms/step - loss: 17784.9648 - mae: 17784.9648 - val_loss: 20488.9766 - val_mae: 20488.9766 - lr: 0.1000\n",
            "Epoch 32/1000\n",
            "37/37 [==============================] - 0s 3ms/step - loss: 17500.6895 - mae: 17500.6895 - val_loss: 19202.0938 - val_mae: 19202.0938 - lr: 0.1000\n",
            "Epoch 33/1000\n",
            "37/37 [==============================] - 0s 9ms/step - loss: 17146.3301 - mae: 17146.3301 - val_loss: 19186.0000 - val_mae: 19186.0000 - lr: 0.1000\n",
            "Epoch 34/1000\n",
            "37/37 [==============================] - 0s 10ms/step - loss: 17184.1211 - mae: 17184.1211 - val_loss: 19090.5312 - val_mae: 19090.5312 - lr: 0.1000\n",
            "Epoch 35/1000\n",
            "37/37 [==============================] - 0s 8ms/step - loss: 17027.0957 - mae: 17027.0957 - val_loss: 18896.3652 - val_mae: 18896.3652 - lr: 0.1000\n",
            "Epoch 36/1000\n",
            "37/37 [==============================] - 0s 8ms/step - loss: 16625.8398 - mae: 16625.8398 - val_loss: 18685.7500 - val_mae: 18685.7500 - lr: 0.1000\n",
            "Epoch 37/1000\n",
            "37/37 [==============================] - 0s 4ms/step - loss: 17350.1875 - mae: 17350.1875 - val_loss: 19398.9355 - val_mae: 19398.9355 - lr: 0.1000\n",
            "Epoch 38/1000\n",
            "37/37 [==============================] - 0s 3ms/step - loss: 17433.7285 - mae: 17433.7285 - val_loss: 18411.1328 - val_mae: 18411.1328 - lr: 0.1000\n",
            "Epoch 39/1000\n",
            "37/37 [==============================] - 0s 3ms/step - loss: 16940.9844 - mae: 16940.9844 - val_loss: 18694.5762 - val_mae: 18694.5762 - lr: 0.1000\n",
            "Epoch 40/1000\n",
            "37/37 [==============================] - 0s 8ms/step - loss: 16187.0244 - mae: 16187.0244 - val_loss: 18310.6680 - val_mae: 18310.6680 - lr: 0.1000\n",
            "Epoch 41/1000\n",
            "37/37 [==============================] - 0s 9ms/step - loss: 16269.0000 - mae: 16269.0000 - val_loss: 18738.1133 - val_mae: 18738.1133 - lr: 0.1000\n",
            "Epoch 42/1000\n",
            "37/37 [==============================] - 0s 9ms/step - loss: 16040.9863 - mae: 16040.9863 - val_loss: 18964.9668 - val_mae: 18964.9668 - lr: 0.1000\n",
            "Epoch 43/1000\n",
            "37/37 [==============================] - 0s 8ms/step - loss: 16406.2012 - mae: 16406.2012 - val_loss: 18588.1641 - val_mae: 18588.1641 - lr: 0.1000\n",
            "Epoch 44/1000\n",
            "37/37 [==============================] - 0s 4ms/step - loss: 15612.5957 - mae: 15612.5957 - val_loss: 18559.6875 - val_mae: 18559.6875 - lr: 0.1000\n",
            "Epoch 45/1000\n",
            "37/37 [==============================] - 0s 3ms/step - loss: 15830.5928 - mae: 15830.5928 - val_loss: 17929.8027 - val_mae: 17929.8027 - lr: 0.1000\n",
            "Epoch 46/1000\n",
            "37/37 [==============================] - 0s 4ms/step - loss: 15447.0000 - mae: 15447.0000 - val_loss: 17899.6328 - val_mae: 17899.6328 - lr: 0.1000\n",
            "Epoch 47/1000\n",
            "37/37 [==============================] - 0s 3ms/step - loss: 15410.1387 - mae: 15410.1387 - val_loss: 18185.9512 - val_mae: 18185.9512 - lr: 0.1000\n",
            "Epoch 48/1000\n",
            "37/37 [==============================] - 0s 3ms/step - loss: 15600.5996 - mae: 15600.5996 - val_loss: 18340.9102 - val_mae: 18340.9102 - lr: 0.1000\n",
            "Epoch 49/1000\n",
            "37/37 [==============================] - 0s 3ms/step - loss: 15296.2520 - mae: 15296.2520 - val_loss: 17794.4727 - val_mae: 17794.4727 - lr: 0.1000\n",
            "Epoch 50/1000\n",
            "37/37 [==============================] - 0s 3ms/step - loss: 15286.8232 - mae: 15286.8232 - val_loss: 18636.1836 - val_mae: 18636.1836 - lr: 0.1000\n",
            "Epoch 51/1000\n",
            "37/37 [==============================] - 0s 3ms/step - loss: 15859.1543 - mae: 15859.1543 - val_loss: 18105.9512 - val_mae: 18105.9512 - lr: 0.1000\n",
            "Epoch 52/1000\n",
            "37/37 [==============================] - 0s 3ms/step - loss: 15623.2744 - mae: 15623.2744 - val_loss: 18642.2578 - val_mae: 18642.2578 - lr: 0.1000\n",
            "Epoch 53/1000\n",
            "37/37 [==============================] - 0s 3ms/step - loss: 15901.4932 - mae: 15901.4932 - val_loss: 17573.7617 - val_mae: 17573.7617 - lr: 0.1000\n",
            "Epoch 54/1000\n",
            "37/37 [==============================] - 0s 3ms/step - loss: 15527.3662 - mae: 15527.3662 - val_loss: 17773.3691 - val_mae: 17773.3691 - lr: 0.1000\n",
            "Epoch 55/1000\n",
            "37/37 [==============================] - 0s 3ms/step - loss: 14993.0957 - mae: 14993.0957 - val_loss: 18078.7402 - val_mae: 18078.7402 - lr: 0.1000\n",
            "Epoch 56/1000\n",
            "37/37 [==============================] - 0s 3ms/step - loss: 15485.0791 - mae: 15485.0791 - val_loss: 19085.1465 - val_mae: 19085.1465 - lr: 0.1000\n",
            "Epoch 57/1000\n",
            "37/37 [==============================] - 0s 3ms/step - loss: 14883.1572 - mae: 14883.1572 - val_loss: 18970.0078 - val_mae: 18970.0078 - lr: 0.1000\n",
            "Epoch 58/1000\n",
            "37/37 [==============================] - 0s 3ms/step - loss: 15072.1025 - mae: 15072.1025 - val_loss: 19482.3477 - val_mae: 19482.3477 - lr: 0.1000\n",
            "Epoch 59/1000\n",
            "37/37 [==============================] - 0s 4ms/step - loss: 14452.7812 - mae: 14452.7812 - val_loss: 17268.6172 - val_mae: 17268.6172 - lr: 0.0100\n",
            "Epoch 60/1000\n",
            "37/37 [==============================] - 0s 3ms/step - loss: 14098.7920 - mae: 14098.7920 - val_loss: 17272.0605 - val_mae: 17272.0605 - lr: 0.0100\n",
            "Epoch 61/1000\n",
            "37/37 [==============================] - 0s 3ms/step - loss: 14093.6699 - mae: 14093.6699 - val_loss: 17288.9980 - val_mae: 17288.9980 - lr: 0.0100\n",
            "Epoch 62/1000\n",
            "37/37 [==============================] - 0s 3ms/step - loss: 13981.6318 - mae: 13981.6318 - val_loss: 17296.5156 - val_mae: 17296.5156 - lr: 0.0100\n",
            "Epoch 63/1000\n",
            "37/37 [==============================] - 0s 3ms/step - loss: 13966.9092 - mae: 13966.9092 - val_loss: 17274.6133 - val_mae: 17274.6133 - lr: 0.0100\n",
            "Epoch 64/1000\n",
            "37/37 [==============================] - 0s 3ms/step - loss: 13940.4023 - mae: 13940.4023 - val_loss: 17291.8672 - val_mae: 17291.8672 - lr: 0.0100\n",
            "Epoch 65/1000\n",
            "37/37 [==============================] - 0s 4ms/step - loss: 13860.5342 - mae: 13860.5342 - val_loss: 17286.9512 - val_mae: 17286.9512 - lr: 1.0000e-03\n",
            "Epoch 66/1000\n",
            "37/37 [==============================] - 0s 3ms/step - loss: 13859.5303 - mae: 13859.5303 - val_loss: 17281.8730 - val_mae: 17281.8730 - lr: 1.0000e-03\n",
            "Epoch 67/1000\n",
            "37/37 [==============================] - 0s 3ms/step - loss: 13855.4424 - mae: 13855.4424 - val_loss: 17283.7109 - val_mae: 17283.7109 - lr: 1.0000e-03\n",
            "Epoch 68/1000\n",
            "37/37 [==============================] - 0s 3ms/step - loss: 13851.2256 - mae: 13851.2256 - val_loss: 17283.5176 - val_mae: 17283.5176 - lr: 1.0000e-03\n",
            "Epoch 69/1000\n",
            "37/37 [==============================] - 0s 4ms/step - loss: 13857.3398 - mae: 13857.3398 - val_loss: 17285.0820 - val_mae: 17285.0820 - lr: 1.0000e-03\n"
          ]
        }
      ]
    },
    {
      "cell_type": "markdown",
      "source": [
        "# Submit"
      ],
      "metadata": {
        "id": "6UJalR-UyemA"
      }
    },
    {
      "cell_type": "code",
      "source": [
        "model_0_preds = tf.squeeze(model_0.predict(test_normal))\n",
        "model_0_preds"
      ],
      "metadata": {
        "id": "KVDu5ZjNygeQ",
        "outputId": "4bfa3c0a-4a23-44ef-e42c-58b0ed28fd7a",
        "colab": {
          "base_uri": "https://localhost:8080/"
        }
      },
      "execution_count": 441,
      "outputs": [
        {
          "output_type": "execute_result",
          "data": {
            "text/plain": [
              "<tf.Tensor: shape=(1459,), dtype=float32, numpy=\n",
              "array([114819.29 , 155317.95 , 168752.73 , ..., 168571.77 , 122511.695,\n",
              "       241092.66 ], dtype=float32)>"
            ]
          },
          "metadata": {},
          "execution_count": 441
        }
      ]
    },
    {
      "cell_type": "code",
      "source": [
        "sample_submission_ds.head()"
      ],
      "metadata": {
        "id": "f1vWfNFMy4Rg",
        "outputId": "dc4108bf-375b-495a-a2f7-0044d49ce9b7",
        "colab": {
          "base_uri": "https://localhost:8080/",
          "height": 206
        }
      },
      "execution_count": 442,
      "outputs": [
        {
          "output_type": "execute_result",
          "data": {
            "text/html": [
              "\n",
              "  <div id=\"df-dac8c3e6-2b5f-4c80-a768-df7f5b59225a\">\n",
              "    <div class=\"colab-df-container\">\n",
              "      <div>\n",
              "<style scoped>\n",
              "    .dataframe tbody tr th:only-of-type {\n",
              "        vertical-align: middle;\n",
              "    }\n",
              "\n",
              "    .dataframe tbody tr th {\n",
              "        vertical-align: top;\n",
              "    }\n",
              "\n",
              "    .dataframe thead th {\n",
              "        text-align: right;\n",
              "    }\n",
              "</style>\n",
              "<table border=\"1\" class=\"dataframe\">\n",
              "  <thead>\n",
              "    <tr style=\"text-align: right;\">\n",
              "      <th></th>\n",
              "      <th>Id</th>\n",
              "      <th>SalePrice</th>\n",
              "    </tr>\n",
              "  </thead>\n",
              "  <tbody>\n",
              "    <tr>\n",
              "      <th>0</th>\n",
              "      <td>1461</td>\n",
              "      <td>169277.052498</td>\n",
              "    </tr>\n",
              "    <tr>\n",
              "      <th>1</th>\n",
              "      <td>1462</td>\n",
              "      <td>187758.393989</td>\n",
              "    </tr>\n",
              "    <tr>\n",
              "      <th>2</th>\n",
              "      <td>1463</td>\n",
              "      <td>183583.683570</td>\n",
              "    </tr>\n",
              "    <tr>\n",
              "      <th>3</th>\n",
              "      <td>1464</td>\n",
              "      <td>179317.477511</td>\n",
              "    </tr>\n",
              "    <tr>\n",
              "      <th>4</th>\n",
              "      <td>1465</td>\n",
              "      <td>150730.079977</td>\n",
              "    </tr>\n",
              "  </tbody>\n",
              "</table>\n",
              "</div>\n",
              "      <button class=\"colab-df-convert\" onclick=\"convertToInteractive('df-dac8c3e6-2b5f-4c80-a768-df7f5b59225a')\"\n",
              "              title=\"Convert this dataframe to an interactive table.\"\n",
              "              style=\"display:none;\">\n",
              "        \n",
              "  <svg xmlns=\"http://www.w3.org/2000/svg\" height=\"24px\"viewBox=\"0 0 24 24\"\n",
              "       width=\"24px\">\n",
              "    <path d=\"M0 0h24v24H0V0z\" fill=\"none\"/>\n",
              "    <path d=\"M18.56 5.44l.94 2.06.94-2.06 2.06-.94-2.06-.94-.94-2.06-.94 2.06-2.06.94zm-11 1L8.5 8.5l.94-2.06 2.06-.94-2.06-.94L8.5 2.5l-.94 2.06-2.06.94zm10 10l.94 2.06.94-2.06 2.06-.94-2.06-.94-.94-2.06-.94 2.06-2.06.94z\"/><path d=\"M17.41 7.96l-1.37-1.37c-.4-.4-.92-.59-1.43-.59-.52 0-1.04.2-1.43.59L10.3 9.45l-7.72 7.72c-.78.78-.78 2.05 0 2.83L4 21.41c.39.39.9.59 1.41.59.51 0 1.02-.2 1.41-.59l7.78-7.78 2.81-2.81c.8-.78.8-2.07 0-2.86zM5.41 20L4 18.59l7.72-7.72 1.47 1.35L5.41 20z\"/>\n",
              "  </svg>\n",
              "      </button>\n",
              "      \n",
              "  <style>\n",
              "    .colab-df-container {\n",
              "      display:flex;\n",
              "      flex-wrap:wrap;\n",
              "      gap: 12px;\n",
              "    }\n",
              "\n",
              "    .colab-df-convert {\n",
              "      background-color: #E8F0FE;\n",
              "      border: none;\n",
              "      border-radius: 50%;\n",
              "      cursor: pointer;\n",
              "      display: none;\n",
              "      fill: #1967D2;\n",
              "      height: 32px;\n",
              "      padding: 0 0 0 0;\n",
              "      width: 32px;\n",
              "    }\n",
              "\n",
              "    .colab-df-convert:hover {\n",
              "      background-color: #E2EBFA;\n",
              "      box-shadow: 0px 1px 2px rgba(60, 64, 67, 0.3), 0px 1px 3px 1px rgba(60, 64, 67, 0.15);\n",
              "      fill: #174EA6;\n",
              "    }\n",
              "\n",
              "    [theme=dark] .colab-df-convert {\n",
              "      background-color: #3B4455;\n",
              "      fill: #D2E3FC;\n",
              "    }\n",
              "\n",
              "    [theme=dark] .colab-df-convert:hover {\n",
              "      background-color: #434B5C;\n",
              "      box-shadow: 0px 1px 3px 1px rgba(0, 0, 0, 0.15);\n",
              "      filter: drop-shadow(0px 1px 2px rgba(0, 0, 0, 0.3));\n",
              "      fill: #FFFFFF;\n",
              "    }\n",
              "  </style>\n",
              "\n",
              "      <script>\n",
              "        const buttonEl =\n",
              "          document.querySelector('#df-dac8c3e6-2b5f-4c80-a768-df7f5b59225a button.colab-df-convert');\n",
              "        buttonEl.style.display =\n",
              "          google.colab.kernel.accessAllowed ? 'block' : 'none';\n",
              "\n",
              "        async function convertToInteractive(key) {\n",
              "          const element = document.querySelector('#df-dac8c3e6-2b5f-4c80-a768-df7f5b59225a');\n",
              "          const dataTable =\n",
              "            await google.colab.kernel.invokeFunction('convertToInteractive',\n",
              "                                                     [key], {});\n",
              "          if (!dataTable) return;\n",
              "\n",
              "          const docLinkHtml = 'Like what you see? Visit the ' +\n",
              "            '<a target=\"_blank\" href=https://colab.research.google.com/notebooks/data_table.ipynb>data table notebook</a>'\n",
              "            + ' to learn more about interactive tables.';\n",
              "          element.innerHTML = '';\n",
              "          dataTable['output_type'] = 'display_data';\n",
              "          await google.colab.output.renderOutput(dataTable, element);\n",
              "          const docLink = document.createElement('div');\n",
              "          docLink.innerHTML = docLinkHtml;\n",
              "          element.appendChild(docLink);\n",
              "        }\n",
              "      </script>\n",
              "    </div>\n",
              "  </div>\n",
              "  "
            ],
            "text/plain": [
              "     Id      SalePrice\n",
              "0  1461  169277.052498\n",
              "1  1462  187758.393989\n",
              "2  1463  183583.683570\n",
              "3  1464  179317.477511\n",
              "4  1465  150730.079977"
            ]
          },
          "metadata": {},
          "execution_count": 442
        }
      ]
    },
    {
      "cell_type": "code",
      "source": [
        "submission = sample_submission_ds.copy()\n",
        "submission['SalePrice'] = model_0_preds"
      ],
      "metadata": {
        "id": "Y8Uxfnqky6N5"
      },
      "execution_count": 443,
      "outputs": []
    },
    {
      "cell_type": "code",
      "source": [
        "DATE='220131'"
      ],
      "metadata": {
        "id": "X8sEIR3Nzmp_"
      },
      "execution_count": 445,
      "outputs": []
    },
    {
      "cell_type": "code",
      "source": [
        "submission.to_csv(f'{DATE}_submission.csv', index=False)"
      ],
      "metadata": {
        "id": "KlDSKjJ7zYmJ"
      },
      "execution_count": 446,
      "outputs": []
    },
    {
      "cell_type": "code",
      "source": [
        "!kaggle competitions submit house-prices-advanced-regression-techniques -f {DATE}'_submission.csv' -m {DATE}' submission'"
      ],
      "metadata": {
        "id": "6uJJZvhIzd7h",
        "outputId": "1ac3797b-8fbd-4540-975a-84700744bfa9",
        "colab": {
          "base_uri": "https://localhost:8080/"
        }
      },
      "execution_count": 448,
      "outputs": [
        {
          "output_type": "stream",
          "name": "stdout",
          "text": [
            "Warning: Your Kaggle API key is readable by other users on this system! To fix this, you can run 'chmod 600 /root/.kaggle/kaggle.json'\n",
            "Warning: Looks like you're using an outdated API Version, please consider updating (server 1.5.12 / client 1.5.4)\n",
            "100% 21.2k/21.2k [00:00<00:00, 79.5kB/s]\n",
            "Successfully submitted to House Prices - Advanced Regression Techniques"
          ]
        }
      ]
    }
  ]
}